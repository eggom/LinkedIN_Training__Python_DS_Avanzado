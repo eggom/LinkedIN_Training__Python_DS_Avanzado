{
 "cells": [
  {
   "cell_type": "markdown",
   "metadata": {},
   "source": [
    "# Automatic Feature Engineering\n",
    "\n",
    "### Uso de RFE del paquete feature_selection"
   ]
  },
  {
   "cell_type": "code",
   "execution_count": 1,
   "metadata": {},
   "outputs": [],
   "source": [
    "# Importamos libs\n",
    "\n",
    "from sklearn.feature_selection import RFE\n",
    "from sklearn import linear_model\n",
    "import pandas as pd"
   ]
  },
  {
   "cell_type": "code",
   "execution_count": 2,
   "metadata": {},
   "outputs": [],
   "source": [
    "# Leemos dataset\n",
    "\n",
    "data = pd.read_csv(\"../eggomPY_Datasets/AirlineDelays/DelayedFlights.csv\")"
   ]
  },
  {
   "cell_type": "code",
   "execution_count": 3,
   "metadata": {},
   "outputs": [],
   "source": [
    "# Defino las cols\n",
    "\n",
    "col_pred_0 = [\"AirTime\", \"Distance\", \"TaxiIn\", \"TaxiOut\", \"DayOfWeek\", \"DayofMonth\", \"Month\", \"DepDelay\", \"WeatherDelay\"]\n",
    "col_target = \"ArrDelay\""
   ]
  },
  {
   "cell_type": "code",
   "execution_count": 4,
   "metadata": {},
   "outputs": [],
   "source": [
    "# Limpiamos el dataset de NaN\n",
    "\n",
    "df = data.dropna(subset=col_pred_0)\n",
    "df = df.dropna(subset=[\"ArrDelay\"])"
   ]
  },
  {
   "cell_type": "code",
   "execution_count": 5,
   "metadata": {},
   "outputs": [],
   "source": [
    "# Sampleamos el dataset y lo capamos a un total de 10000 filas.\n",
    "\n",
    "df = df.sample(frac=1,replace=True, random_state=12).head(10000)"
   ]
  },
  {
   "cell_type": "code",
   "execution_count": 6,
   "metadata": {},
   "outputs": [],
   "source": [
    "# Defino un conjunto X con los datos de predicción y un conjunto con los datos objetivo\n",
    "\n",
    "X = df[col_pred_0]\n",
    "y = df[col_target]"
   ]
  },
  {
   "cell_type": "code",
   "execution_count": 8,
   "metadata": {},
   "outputs": [],
   "source": [
    "# Creo un modelo de regresión lineal\n",
    "\n",
    "# Aunque podríamos usar un SVM, un randomForest un árbol de clasificación... lo que sea.\n",
    "\n",
    "lm = linear_model.LinearRegression()"
   ]
  },
  {
   "cell_type": "markdown",
   "metadata": {},
   "source": [
    "### Comienza la selección de variables..."
   ]
  },
  {
   "cell_type": "code",
   "execution_count": 9,
   "metadata": {},
   "outputs": [
    {
     "data": {
      "text/plain": [
       "RFE(estimator=LinearRegression(copy_X=True, fit_intercept=True, n_jobs=None,\n",
       "                               normalize=False),\n",
       "    n_features_to_select=5, step=1, verbose=0)"
      ]
     },
     "execution_count": 9,
     "metadata": {},
     "output_type": "execute_result"
    }
   ],
   "source": [
    "# Creamos un selector con la función RFE\n",
    "#\n",
    "# estimator = : Al estimador que queremos emplear. En este caso el lm\n",
    "#\n",
    "# n_features_to_select = : Cuántas variables queremos tomar\n",
    "\n",
    "selector = RFE(estimator=lm, n_features_to_select = 5)\n",
    "\n",
    "# Fiteamos el objeto selector con nuestros datos concretos:\n",
    "\n",
    "selector.fit(X,y)"
   ]
  },
  {
   "cell_type": "code",
   "execution_count": 11,
   "metadata": {},
   "outputs": [
    {
     "data": {
      "text/plain": [
       "array([1, 1, 1, 1, 3, 5, 2, 1, 4])"
      ]
     },
     "execution_count": 11,
     "metadata": {},
     "output_type": "execute_result"
    }
   ],
   "source": [
    "# Mostramos el ranking de resultados.\n",
    "\n",
    "# Este vector muestra el \"peso\" de la variable en cuanto a importancia.\n",
    "# Esto tiene que verse conjuntamente con el array de columnas del conjunto X\n",
    "\n",
    "selector.ranking_"
   ]
  },
  {
   "cell_type": "code",
   "execution_count": 14,
   "metadata": {},
   "outputs": [
    {
     "data": {
      "text/plain": [
       "Index(['AirTime', 'Distance', 'TaxiIn', 'TaxiOut', 'DepDelay'], dtype='object')"
      ]
     },
     "execution_count": 14,
     "metadata": {},
     "output_type": "execute_result"
    }
   ],
   "source": [
    "# Así que una mejor manera de ver qué 5 variables son las que más influencia tienen es:\n",
    "\n",
    "X.columns[selector.support_]"
   ]
  },
  {
   "cell_type": "code",
   "execution_count": 18,
   "metadata": {},
   "outputs": [
    {
     "name": "stdout",
     "output_type": "stream",
     "text": [
      "Orden de importancia:  [4 5 2 3 7 9 6 1 8]\n",
      "Var más importante:  DepDelay\n"
     ]
    }
   ],
   "source": [
    "# Un ejercicio muy bueno es hacer un RFE con n_features_to_select = 1\n",
    "\n",
    "selector = RFE(estimator=lm, n_features_to_select = 1)\n",
    "\n",
    "selector.fit(X,y)\n",
    "\n",
    "print(\"Orden de importancia: \",selector.ranking_)\n",
    "print(\"Var más importante: \",X.columns[selector.support_][0])"
   ]
  }
 ],
 "metadata": {
  "kernelspec": {
   "display_name": "Python 3",
   "language": "python",
   "name": "python3"
  },
  "language_info": {
   "codemirror_mode": {
    "name": "ipython",
    "version": 3
   },
   "file_extension": ".py",
   "mimetype": "text/x-python",
   "name": "python",
   "nbconvert_exporter": "python",
   "pygments_lexer": "ipython3",
   "version": "3.7.3"
  }
 },
 "nbformat": 4,
 "nbformat_minor": 2
}
