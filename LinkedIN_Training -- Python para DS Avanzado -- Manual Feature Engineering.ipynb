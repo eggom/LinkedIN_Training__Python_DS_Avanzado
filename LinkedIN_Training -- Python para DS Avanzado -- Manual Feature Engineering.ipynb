{
 "cells": [
  {
   "cell_type": "markdown",
   "metadata": {},
   "source": [
    "# Manual Feature Engineering\n",
    "\n",
    "Cuando tenemos una base de datos con muchas columnas, a veces puede interesarnos no ajustar los modelos con todas ellas.\n",
    "\n",
    "Por tanto, ¿es necesario emplear todas las variables para el ajuste del modelo?\n",
    "\n",
    "La respuesta es depende, depende del criterio que queramos fijarnos.\n",
    "\n",
    "Existen varios criterios que podemos emplear:\n",
    "\n",
    "* **Criterio estadístico del p-valor**: Empleando el método OLS del paquete de statsmodel, se puede valorar la probabilidad de que cierta variable sea significativa para el modelo.\n",
    "\n",
    "* **Porcentaje de variabilidad explicada**: Y tener que ajustar un modelo PCA\n",
    "\n",
    "* **En un modelo estilo Random Forest**: Listar la importancia de las variables en función de en cuántos árboles del bosque son relevantes.\n",
    "\n",
    "En este notebook mostraré el primero de esos criterios, la aproximación más teórica."
   ]
  },
  {
   "cell_type": "code",
   "execution_count": 2,
   "metadata": {},
   "outputs": [],
   "source": [
    "# Importo las libs\n",
    "\n",
    "from sklearn import linear_model\n",
    "import statsmodels.api as sm\n",
    "import pandas as pd"
   ]
  },
  {
   "cell_type": "code",
   "execution_count": 14,
   "metadata": {},
   "outputs": [],
   "source": [
    "# Defino las cols\n",
    "\n",
    "col_pred_0 = [\"AirTime\", \"Distance\", \"TaxiIn\", \"TaxiOut\", \"DayOfWeek\", \"DayofMonth\", \"Month\", \"DepDelay\", \"WeatherDelay\"]\n",
    "col_target = \"ArrDelay\""
   ]
  },
  {
   "cell_type": "code",
   "execution_count": 9,
   "metadata": {},
   "outputs": [],
   "source": [
    "# Leemos dataset\n",
    "\n",
    "data = pd.read_csv(\"../eggomPY_Datasets/AirlineDelays/DelayedFlights.csv\")"
   ]
  },
  {
   "cell_type": "code",
   "execution_count": 10,
   "metadata": {},
   "outputs": [],
   "source": [
    "# Limpiamos el dataset de NaN\n",
    "\n",
    "df = data.dropna(subset=col_pred_0)\n",
    "df = df.dropna(subset=[\"ArrDelay\"])"
   ]
  },
  {
   "cell_type": "code",
   "execution_count": 11,
   "metadata": {},
   "outputs": [],
   "source": [
    "# Sampleamos el dataset y lo capamos a un total de 5000 filas.\n",
    "\n",
    "df = df.sample(frac=1,replace=True, random_state=12).head(5000)"
   ]
  },
  {
   "cell_type": "code",
   "execution_count": 12,
   "metadata": {},
   "outputs": [],
   "source": [
    "# Reseteamos indices\n",
    "\n",
    "df = df.reset_index()"
   ]
  },
  {
   "cell_type": "code",
   "execution_count": 15,
   "metadata": {},
   "outputs": [],
   "source": [
    "# Defino un conjunto X con los datos de predicción y un conjunto con los datos objetivo\n",
    "\n",
    "X = df[col_pred_0]\n",
    "y = df[col_target]"
   ]
  },
  {
   "cell_type": "code",
   "execution_count": 16,
   "metadata": {},
   "outputs": [],
   "source": [
    "# Creo un modelo de regresión lineal\n",
    "\n",
    "lm = linear_model.LinearRegression()\n",
    "\n",
    "# Lo fiteo usando todo el dataset\n",
    "\n",
    "lm.fit(X,y)\n",
    "\n",
    "# Predigo\n",
    "\n",
    "y_guess = lm.predict(X)"
   ]
  },
  {
   "cell_type": "code",
   "execution_count": 20,
   "metadata": {},
   "outputs": [
    {
     "data": {
      "text/html": [
       "<div>\n",
       "<style scoped>\n",
       "    .dataframe tbody tr th:only-of-type {\n",
       "        vertical-align: middle;\n",
       "    }\n",
       "\n",
       "    .dataframe tbody tr th {\n",
       "        vertical-align: top;\n",
       "    }\n",
       "\n",
       "    .dataframe thead th {\n",
       "        text-align: right;\n",
       "    }\n",
       "</style>\n",
       "<table border=\"1\" class=\"dataframe\">\n",
       "  <thead>\n",
       "    <tr style=\"text-align: right;\">\n",
       "      <th></th>\n",
       "      <th>const</th>\n",
       "      <th>AirTime</th>\n",
       "      <th>Distance</th>\n",
       "      <th>TaxiIn</th>\n",
       "      <th>TaxiOut</th>\n",
       "      <th>DayOfWeek</th>\n",
       "      <th>DayofMonth</th>\n",
       "      <th>Month</th>\n",
       "      <th>DepDelay</th>\n",
       "      <th>WeatherDelay</th>\n",
       "    </tr>\n",
       "  </thead>\n",
       "  <tbody>\n",
       "    <tr>\n",
       "      <th>0</th>\n",
       "      <td>1.0</td>\n",
       "      <td>167.0</td>\n",
       "      <td>1065</td>\n",
       "      <td>8.0</td>\n",
       "      <td>59.0</td>\n",
       "      <td>5</td>\n",
       "      <td>16</td>\n",
       "      <td>5</td>\n",
       "      <td>143.0</td>\n",
       "      <td>0.0</td>\n",
       "    </tr>\n",
       "    <tr>\n",
       "      <th>1</th>\n",
       "      <td>1.0</td>\n",
       "      <td>45.0</td>\n",
       "      <td>224</td>\n",
       "      <td>7.0</td>\n",
       "      <td>9.0</td>\n",
       "      <td>6</td>\n",
       "      <td>12</td>\n",
       "      <td>1</td>\n",
       "      <td>118.0</td>\n",
       "      <td>0.0</td>\n",
       "    </tr>\n",
       "    <tr>\n",
       "      <th>2</th>\n",
       "      <td>1.0</td>\n",
       "      <td>38.0</td>\n",
       "      <td>236</td>\n",
       "      <td>5.0</td>\n",
       "      <td>32.0</td>\n",
       "      <td>2</td>\n",
       "      <td>5</td>\n",
       "      <td>2</td>\n",
       "      <td>180.0</td>\n",
       "      <td>0.0</td>\n",
       "    </tr>\n",
       "  </tbody>\n",
       "</table>\n",
       "</div>"
      ],
      "text/plain": [
       "   const  AirTime  Distance  TaxiIn  TaxiOut  DayOfWeek  DayofMonth  Month  \\\n",
       "0    1.0    167.0      1065     8.0     59.0          5          16      5   \n",
       "1    1.0     45.0       224     7.0      9.0          6          12      1   \n",
       "2    1.0     38.0       236     5.0     32.0          2           5      2   \n",
       "\n",
       "   DepDelay  WeatherDelay  \n",
       "0     143.0           0.0  \n",
       "1     118.0           0.0  \n",
       "2     180.0           0.0  "
      ]
     },
     "execution_count": 20,
     "metadata": {},
     "output_type": "execute_result"
    }
   ],
   "source": [
    "# Al dataset X le añado un columna de 1s. Esto es para ver cuán de importante es una variable constante\n",
    "X2 = sm.add_constant(X)\n",
    "X2.head(3)"
   ]
  },
  {
   "cell_type": "code",
   "execution_count": 22,
   "metadata": {},
   "outputs": [
    {
     "name": "stdout",
     "output_type": "stream",
     "text": [
      "                            OLS Regression Results                            \n",
      "==============================================================================\n",
      "Dep. Variable:               ArrDelay   R-squared:                       0.973\n",
      "Model:                            OLS   Adj. R-squared:                  0.973\n",
      "Method:                 Least Squares   F-statistic:                 1.974e+04\n",
      "Date:                Mon, 04 May 2020   Prob (F-statistic):               0.00\n",
      "Time:                        16:03:38   Log-Likelihood:                -18640.\n",
      "No. Observations:                5000   AIC:                         3.730e+04\n",
      "Df Residuals:                    4990   BIC:                         3.737e+04\n",
      "Df Model:                           9                                         \n",
      "Covariance Type:            nonrobust                                         \n",
      "================================================================================\n",
      "                   coef    std err          t      P>|t|      [0.025      0.975]\n",
      "--------------------------------------------------------------------------------\n",
      "const          -23.7301      0.586    -40.487      0.000     -24.879     -22.581\n",
      "AirTime          0.4128      0.010     39.764      0.000       0.392       0.433\n",
      "Distance        -0.0515      0.001    -40.539      0.000      -0.054      -0.049\n",
      "TaxiIn           0.8019      0.022     36.991      0.000       0.759       0.844\n",
      "TaxiOut          0.8059      0.008     95.951      0.000       0.789       0.822\n",
      "DayOfWeek        0.0893      0.071      1.252      0.211      -0.051       0.229\n",
      "DayofMonth       0.0111      0.017      0.670      0.503      -0.021       0.044\n",
      "Month           -0.0653      0.041     -1.598      0.110      -0.145       0.015\n",
      "DepDelay         0.9718      0.002    397.483      0.000       0.967       0.977\n",
      "WeatherDelay     0.0190      0.007      2.630      0.009       0.005       0.033\n",
      "==============================================================================\n",
      "Omnibus:                      461.875   Durbin-Watson:                   1.971\n",
      "Prob(Omnibus):                  0.000   Jarque-Bera (JB):             1826.561\n",
      "Skew:                          -0.396   Prob(JB):                         0.00\n",
      "Kurtosis:                       5.853   Cond. No.                     3.87e+03\n",
      "==============================================================================\n",
      "\n",
      "Warnings:\n",
      "[1] Standard Errors assume that the covariance matrix of the errors is correctly specified.\n",
      "[2] The condition number is large, 3.87e+03. This might indicate that there are\n",
      "strong multicollinearity or other numerical problems.\n"
     ]
    }
   ],
   "source": [
    "# Creamos un modelo lineal usando 'Ordinary Least Squares'\n",
    "\n",
    "ols = sm.OLS(y, X2)\n",
    "\n",
    "# Lo fiteamos\n",
    "\n",
    "estim_2 = ols.fit()\n",
    "\n",
    "# Le pedimos un resumen de resultados (si usamos print nos lo devuelve tipo como el sofware R)\n",
    "print(estim_2.summary())"
   ]
  },
  {
   "cell_type": "markdown",
   "metadata": {},
   "source": [
    "Nos fijamos ahora en la columna 'P>|t|'. Estos son los p-valores.\n",
    "\n",
    "Todas aquellas variables cuyo p-valor se encuentre por encima de 0.05 podemos inferir que tienen muy poca influencia en el modelo.\n",
    "\n",
    "Para quitarlas tenemos que ir de 1 en 1.\n",
    "\n",
    "En este caso quitaré \"DayofMonth' que tiene un p-valor de 0.503.\n",
    "\n",
    "Y repito la dinámica para obtener un nuevo OLS Summary:"
   ]
  },
  {
   "cell_type": "code",
   "execution_count": 23,
   "metadata": {},
   "outputs": [
    {
     "name": "stdout",
     "output_type": "stream",
     "text": [
      "                            OLS Regression Results                            \n",
      "==============================================================================\n",
      "Dep. Variable:               ArrDelay   R-squared:                       0.973\n",
      "Model:                            OLS   Adj. R-squared:                  0.973\n",
      "Method:                 Least Squares   F-statistic:                 2.221e+04\n",
      "Date:                Mon, 04 May 2020   Prob (F-statistic):               0.00\n",
      "Time:                        16:08:13   Log-Likelihood:                -18640.\n",
      "No. Observations:                5000   AIC:                         3.730e+04\n",
      "Df Residuals:                    4991   BIC:                         3.736e+04\n",
      "Df Model:                           8                                         \n",
      "Covariance Type:            nonrobust                                         \n",
      "================================================================================\n",
      "                   coef    std err          t      P>|t|      [0.025      0.975]\n",
      "--------------------------------------------------------------------------------\n",
      "const          -23.5758      0.539    -43.743      0.000     -24.632     -22.519\n",
      "AirTime          0.4130      0.010     39.812      0.000       0.393       0.433\n",
      "Distance        -0.0516      0.001    -40.580      0.000      -0.054      -0.049\n",
      "TaxiIn           0.8016      0.022     36.987      0.000       0.759       0.844\n",
      "TaxiOut          0.8058      0.008     95.955      0.000       0.789       0.822\n",
      "DayOfWeek        0.0906      0.071      1.271      0.204      -0.049       0.230\n",
      "Month           -0.0635      0.041     -1.557      0.119      -0.143       0.016\n",
      "DepDelay         0.9718      0.002    397.515      0.000       0.967       0.977\n",
      "WeatherDelay     0.0190      0.007      2.633      0.008       0.005       0.033\n",
      "==============================================================================\n",
      "Omnibus:                      461.651   Durbin-Watson:                   1.971\n",
      "Prob(Omnibus):                  0.000   Jarque-Bera (JB):             1819.833\n",
      "Skew:                          -0.396   Prob(JB):                         0.00\n",
      "Kurtosis:                       5.847   Cond. No.                     3.56e+03\n",
      "==============================================================================\n",
      "\n",
      "Warnings:\n",
      "[1] Standard Errors assume that the covariance matrix of the errors is correctly specified.\n",
      "[2] The condition number is large, 3.56e+03. This might indicate that there are\n",
      "strong multicollinearity or other numerical problems.\n"
     ]
    }
   ],
   "source": [
    "col_pred_1 = [\"AirTime\", \"Distance\", \"TaxiIn\", \"TaxiOut\", \"DayOfWeek\", \"Month\", \"DepDelay\", \"WeatherDelay\"]\n",
    "\n",
    "X = df[col_pred_1]\n",
    "y = df[col_target]\n",
    "\n",
    "\n",
    "X2 = sm.add_constant(X)\n",
    "\n",
    "ols = sm.OLS(y, X2)\n",
    "estim_2 = ols.fit()\n",
    "print(estim_2.summary())"
   ]
  },
  {
   "cell_type": "markdown",
   "metadata": {},
   "source": [
    "De nuevo, quitamos la variable con mayor p-valor: 'DayOfWeek'"
   ]
  },
  {
   "cell_type": "code",
   "execution_count": 26,
   "metadata": {},
   "outputs": [
    {
     "name": "stdout",
     "output_type": "stream",
     "text": [
      "                            OLS Regression Results                            \n",
      "==============================================================================\n",
      "Dep. Variable:               ArrDelay   R-squared:                       0.973\n",
      "Model:                            OLS   Adj. R-squared:                  0.973\n",
      "Method:                 Least Squares   F-statistic:                 2.537e+04\n",
      "Date:                Mon, 04 May 2020   Prob (F-statistic):               0.00\n",
      "Time:                        16:09:35   Log-Likelihood:                -18641.\n",
      "No. Observations:                5000   AIC:                         3.730e+04\n",
      "Df Residuals:                    4992   BIC:                         3.735e+04\n",
      "Df Model:                           7                                         \n",
      "Covariance Type:            nonrobust                                         \n",
      "================================================================================\n",
      "                   coef    std err          t      P>|t|      [0.025      0.975]\n",
      "--------------------------------------------------------------------------------\n",
      "const          -23.2298      0.465    -49.929      0.000     -24.142     -22.318\n",
      "AirTime          0.4132      0.010     39.831      0.000       0.393       0.434\n",
      "Distance        -0.0516      0.001    -40.594      0.000      -0.054      -0.049\n",
      "TaxiIn           0.8015      0.022     36.980      0.000       0.759       0.844\n",
      "TaxiOut          0.8057      0.008     95.943      0.000       0.789       0.822\n",
      "Month           -0.0626      0.041     -1.535      0.125      -0.142       0.017\n",
      "DepDelay         0.9719      0.002    397.776      0.000       0.967       0.977\n",
      "WeatherDelay     0.0189      0.007      2.624      0.009       0.005       0.033\n",
      "==============================================================================\n",
      "Omnibus:                      461.850   Durbin-Watson:                   1.972\n",
      "Prob(Omnibus):                  0.000   Jarque-Bera (JB):             1820.549\n",
      "Skew:                          -0.397   Prob(JB):                         0.00\n",
      "Kurtosis:                       5.848   Cond. No.                     3.07e+03\n",
      "==============================================================================\n",
      "\n",
      "Warnings:\n",
      "[1] Standard Errors assume that the covariance matrix of the errors is correctly specified.\n",
      "[2] The condition number is large, 3.07e+03. This might indicate that there are\n",
      "strong multicollinearity or other numerical problems.\n"
     ]
    }
   ],
   "source": [
    "col_pred_2 = [\"AirTime\", \"Distance\", \"TaxiIn\", \"TaxiOut\", \"Month\", \"DepDelay\", \"WeatherDelay\"]\n",
    "\n",
    "X = df[col_pred_2]\n",
    "y = df[col_target]\n",
    "\n",
    "\n",
    "X2 = sm.add_constant(X)\n",
    "\n",
    "ols = sm.OLS(y, X2)\n",
    "estim_2 = ols.fit()\n",
    "print(estim_2.summary())"
   ]
  },
  {
   "cell_type": "markdown",
   "metadata": {},
   "source": [
    "Ahora quitamos la variable 'Month'"
   ]
  },
  {
   "cell_type": "code",
   "execution_count": 28,
   "metadata": {},
   "outputs": [
    {
     "name": "stdout",
     "output_type": "stream",
     "text": [
      "                            OLS Regression Results                            \n",
      "==============================================================================\n",
      "Dep. Variable:               ArrDelay   R-squared:                       0.973\n",
      "Model:                            OLS   Adj. R-squared:                  0.973\n",
      "Method:                 Least Squares   F-statistic:                 2.960e+04\n",
      "Date:                Mon, 04 May 2020   Prob (F-statistic):               0.00\n",
      "Time:                        16:10:23   Log-Likelihood:                -18642.\n",
      "No. Observations:                5000   AIC:                         3.730e+04\n",
      "Df Residuals:                    4993   BIC:                         3.734e+04\n",
      "Df Model:                           6                                         \n",
      "Covariance Type:            nonrobust                                         \n",
      "================================================================================\n",
      "                   coef    std err          t      P>|t|      [0.025      0.975]\n",
      "--------------------------------------------------------------------------------\n",
      "const          -23.6105      0.394    -59.967      0.000     -24.382     -22.839\n",
      "AirTime          0.4136      0.010     39.884      0.000       0.393       0.434\n",
      "Distance        -0.0516      0.001    -40.634      0.000      -0.054      -0.049\n",
      "TaxiIn           0.8004      0.022     36.945      0.000       0.758       0.843\n",
      "TaxiOut          0.8055      0.008     95.918      0.000       0.789       0.822\n",
      "DepDelay         0.9719      0.002    397.729      0.000       0.967       0.977\n",
      "WeatherDelay     0.0186      0.007      2.584      0.010       0.004       0.033\n",
      "==============================================================================\n",
      "Omnibus:                      463.923   Durbin-Watson:                   1.972\n",
      "Prob(Omnibus):                  0.000   Jarque-Bera (JB):             1823.276\n",
      "Skew:                          -0.400   Prob(JB):                         0.00\n",
      "Kurtosis:                       5.848   Cond. No.                     2.59e+03\n",
      "==============================================================================\n",
      "\n",
      "Warnings:\n",
      "[1] Standard Errors assume that the covariance matrix of the errors is correctly specified.\n",
      "[2] The condition number is large, 2.59e+03. This might indicate that there are\n",
      "strong multicollinearity or other numerical problems.\n"
     ]
    }
   ],
   "source": [
    "col_pred_3 = [\"AirTime\", \"Distance\", \"TaxiIn\", \"TaxiOut\", \"DepDelay\", \"WeatherDelay\"]\n",
    "\n",
    "X = df[col_pred_3]\n",
    "y = df[col_target]\n",
    "\n",
    "\n",
    "X2 = sm.add_constant(X)\n",
    "\n",
    "ols = sm.OLS(y, X2)\n",
    "estim_2 = ols.fit()\n",
    "print(estim_2.summary())"
   ]
  },
  {
   "cell_type": "markdown",
   "metadata": {},
   "source": [
    "Quitaré también 'WeatherDelay'"
   ]
  },
  {
   "cell_type": "code",
   "execution_count": 30,
   "metadata": {},
   "outputs": [
    {
     "name": "stdout",
     "output_type": "stream",
     "text": [
      "                            OLS Regression Results                            \n",
      "==============================================================================\n",
      "Dep. Variable:               ArrDelay   R-squared:                       0.973\n",
      "Model:                            OLS   Adj. R-squared:                  0.973\n",
      "Method:                 Least Squares   F-statistic:                 3.547e+04\n",
      "Date:                Mon, 04 May 2020   Prob (F-statistic):               0.00\n",
      "Time:                        16:11:10   Log-Likelihood:                -18646.\n",
      "No. Observations:                5000   AIC:                         3.730e+04\n",
      "Df Residuals:                    4994   BIC:                         3.734e+04\n",
      "Df Model:                           5                                         \n",
      "Covariance Type:            nonrobust                                         \n",
      "==============================================================================\n",
      "                 coef    std err          t      P>|t|      [0.025      0.975]\n",
      "------------------------------------------------------------------------------\n",
      "const        -23.6705      0.393    -60.190      0.000     -24.441     -22.900\n",
      "AirTime        0.4143      0.010     39.938      0.000       0.394       0.435\n",
      "Distance      -0.0517      0.001    -40.719      0.000      -0.054      -0.049\n",
      "TaxiIn         0.8029      0.022     37.073      0.000       0.760       0.845\n",
      "TaxiOut        0.8072      0.008     96.356      0.000       0.791       0.824\n",
      "DepDelay       0.9733      0.002    408.093      0.000       0.969       0.978\n",
      "==============================================================================\n",
      "Omnibus:                      462.228   Durbin-Watson:                   1.972\n",
      "Prob(Omnibus):                  0.000   Jarque-Bera (JB):             1800.362\n",
      "Skew:                          -0.401   Prob(JB):                         0.00\n",
      "Kurtosis:                       5.828   Cond. No.                     2.59e+03\n",
      "==============================================================================\n",
      "\n",
      "Warnings:\n",
      "[1] Standard Errors assume that the covariance matrix of the errors is correctly specified.\n",
      "[2] The condition number is large, 2.59e+03. This might indicate that there are\n",
      "strong multicollinearity or other numerical problems.\n"
     ]
    }
   ],
   "source": [
    "col_pred_4 = [\"AirTime\", \"Distance\", \"TaxiIn\", \"TaxiOut\", \"DepDelay\"]\n",
    "\n",
    "X = df[col_pred_4]\n",
    "y = df[col_target]\n",
    "\n",
    "\n",
    "X2 = sm.add_constant(X)\n",
    "\n",
    "ols = sm.OLS(y, X2)\n",
    "estim_2 = ols.fit()\n",
    "print(estim_2.summary())"
   ]
  },
  {
   "cell_type": "markdown",
   "metadata": {},
   "source": [
    "Observando la tabla, parece un resultado ya aceptable.\n",
    "\n",
    "Hemos eliminado las variables 'DayOfMonth', 'DayOfWeek' y 'Month'.\n",
    "\n",
    "Sin embargo esta información parece, desde un punto de vista lógico, que debe tener influencia en los retrasos de las aerolíneas... ¿Porqué nuestro modelo las rehuye?\n",
    "\n",
    "Muy sencillo:  Las variables que estaba usando ('DayofWeek', 'DayofMonth'., 'Month'...) son variables numéricas y las estaba tratando como números. Es por eso precisamente que no eran relevantes. Un uso correcto de estas variables hubiese sido categorizarlas como factores, es decir, si pertenecemos al día 1, al día 2 o al día 3. Lo que estaba haciendo Python era entender que día 2 era doble que día 1, día 3, triple que día 1... Es precisamente por eso por lo que salían variables no significativas aquí. ¿Cómo arreglarlo? Convirtiéndolas en \"dummies\". \n",
    "\n",
    "Para concluir, el modelo de regresión lineal es famoso por tener una explicación teórica muy bien estudiada. Aquí podemos obtener muchísima información de la importancia de la significación de la complejidad de los modelos."
   ]
  }
 ],
 "metadata": {
  "kernelspec": {
   "display_name": "Python 3",
   "language": "python",
   "name": "python3"
  },
  "language_info": {
   "codemirror_mode": {
    "name": "ipython",
    "version": 3
   },
   "file_extension": ".py",
   "mimetype": "text/x-python",
   "name": "python",
   "nbconvert_exporter": "python",
   "pygments_lexer": "ipython3",
   "version": "3.7.3"
  }
 },
 "nbformat": 4,
 "nbformat_minor": 2
}
