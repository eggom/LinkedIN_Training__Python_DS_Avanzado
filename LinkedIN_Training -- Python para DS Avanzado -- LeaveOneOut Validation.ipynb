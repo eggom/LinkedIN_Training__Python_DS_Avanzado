{
 "cells": [
  {
   "cell_type": "markdown",
   "metadata": {},
   "source": [
    "# Validación LeaveOneOut para el dataframe de Airline Delays\n",
    "\n",
    "### Preparamos los datos"
   ]
  },
  {
   "cell_type": "code",
   "execution_count": 30,
   "metadata": {},
   "outputs": [],
   "source": [
    "# Importamos librerías\n",
    "\n",
    "import pandas as pd\n",
    "from sklearn.model_selection import LeaveOneOut\n",
    "from sklearn import linear_model\n",
    "import numpy as np\n",
    "import matplotlib.pyplot as plt"
   ]
  },
  {
   "cell_type": "code",
   "execution_count": 3,
   "metadata": {},
   "outputs": [],
   "source": [
    "# Leemos dataset\n",
    "\n",
    "data = pd.read_csv(\"../eggomPY_Datasets/AirlineDelays/DelayedFlights.csv\")"
   ]
  },
  {
   "cell_type": "code",
   "execution_count": 4,
   "metadata": {},
   "outputs": [],
   "source": [
    "# Limpiamos ArrDelay (que es nuestra variable obj) de NaN.\n",
    "df = data.dropna(subset=[\"ArrDelay\"])\n",
    "\n",
    "# Sampleamos el dataset y lo capamos a un total de 5000 filas.\n",
    "df = df.sample(frac=1,replace=True, random_state=12).head(5000)"
   ]
  },
  {
   "cell_type": "code",
   "execution_count": 6,
   "metadata": {},
   "outputs": [],
   "source": [
    "# Reseteamos indices\n",
    "\n",
    "df = df.reset_index()"
   ]
  },
  {
   "cell_type": "code",
   "execution_count": 7,
   "metadata": {},
   "outputs": [],
   "source": [
    "# De todo el 'df' construimos un dataframe con las columnas que queramos emplear como  variables predictoras\n",
    "#\n",
    "\n",
    "X = df[[\"AirTime\", \"Distance\", \"DepDelay\"]]\n",
    "\n",
    "\n",
    "# Construimos un dataframe (en realidad es una Series) con la variable objetivo 'ArrDelay'\n",
    "y = df[\"ArrDelay\"]"
   ]
  },
  {
   "cell_type": "markdown",
   "metadata": {},
   "source": [
    "### Usamos 'LeaveOneOut' para llevar a cabo la validación LOO"
   ]
  },
  {
   "cell_type": "code",
   "execution_count": 10,
   "metadata": {},
   "outputs": [],
   "source": [
    "# Creamos el objeto LeaveOneOut que no necesita parámetro alguno.\n",
    "\n",
    "loo = LeaveOneOut()"
   ]
  },
  {
   "cell_type": "code",
   "execution_count": 11,
   "metadata": {},
   "outputs": [],
   "source": [
    "# Creamos el modelo de Reg. Lineal\n",
    "\n",
    "lm = linear_model.LinearRegression()"
   ]
  },
  {
   "cell_type": "code",
   "execution_count": 35,
   "metadata": {},
   "outputs": [],
   "source": [
    "# Creamos una lista vacía para ir guardando los resultados de R2 y de errores\n",
    "\n",
    "results_R2 = []\n",
    "results_errors = []"
   ]
  },
  {
   "cell_type": "code",
   "execution_count": 54,
   "metadata": {},
   "outputs": [],
   "source": [
    "# De nuevo, creamos un bucle que dividirá el DF 'X' 5000 veces (tamaño total de X) en conjuntos de train y testing\n",
    "# cada vez diferentes, y devolverá el # valor de R2 para cada fracción y el valor del error.\n",
    "\n",
    "for train_idx, test_idx in loo.split(X):\n",
    "    X_train, X_test = X.loc[train_idx], X.loc[test_idx]\n",
    "    y_train, y_test = y[train_idx], y[test_idx]\n",
    "    lm.fit(X_train, y_train)\n",
    "    y_guess = lm.predict(X_test)\n",
    "    results_errors.append((y_test - y_guess[0])**2)"
   ]
  },
  {
   "cell_type": "code",
   "execution_count": 101,
   "metadata": {
    "scrolled": true
   },
   "outputs": [
    {
     "data": {
      "text/plain": [
       "[0    11.883932\n",
       " Name: ArrDelay, dtype: float64, 1    89.630482\n",
       " Name: ArrDelay, dtype: float64, 2    147.311196\n",
       " Name: ArrDelay, dtype: float64, 3    6.04611\n",
       " Name: ArrDelay, dtype: float64, 4    759.69498\n",
       " Name: ArrDelay, dtype: float64]"
      ]
     },
     "execution_count": 101,
     "metadata": {},
     "output_type": "execute_result"
    }
   ],
   "source": [
    "results_errors[:5]"
   ]
  },
  {
   "cell_type": "code",
   "execution_count": 95,
   "metadata": {},
   "outputs": [
    {
     "data": {
      "text/plain": [
       "list"
      ]
     },
     "execution_count": 95,
     "metadata": {},
     "output_type": "execute_result"
    }
   ],
   "source": [
    "type(results_errors)"
   ]
  }
 ],
 "metadata": {
  "kernelspec": {
   "display_name": "Python 3",
   "language": "python",
   "name": "python3"
  },
  "language_info": {
   "codemirror_mode": {
    "name": "ipython",
    "version": 3
   },
   "file_extension": ".py",
   "mimetype": "text/x-python",
   "name": "python",
   "nbconvert_exporter": "python",
   "pygments_lexer": "ipython3",
   "version": "3.7.3"
  }
 },
 "nbformat": 4,
 "nbformat_minor": 2
}
